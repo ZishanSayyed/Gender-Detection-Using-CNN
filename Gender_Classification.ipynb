{
  "nbformat": 4,
  "nbformat_minor": 0,
  "metadata": {
    "accelerator": "GPU",
    "colab": {
      "name": "Gender Classification.ipynb",
      "provenance": [],
      "collapsed_sections": [],
      "authorship_tag": "ABX9TyPtvMaKGPwMFGIXG6gcnpvj",
      "include_colab_link": true
    },
    "kernelspec": {
      "display_name": "Python 3",
      "name": "python3"
    }
  },
  "cells": [
    {
      "cell_type": "markdown",
      "metadata": {
        "id": "view-in-github",
        "colab_type": "text"
      },
      "source": [
        "<a href=\"https://colab.research.google.com/github/ZishanSayyed/Gender-Detection-Using-CNN/blob/main/Gender_Classification.ipynb\" target=\"_parent\"><img src=\"https://colab.research.google.com/assets/colab-badge.svg\" alt=\"Open In Colab\"/></a>"
      ]
    },
    {
      "cell_type": "code",
      "metadata": {
        "id": "_m-OuN4HY4pP"
      },
      "source": [
        "# Gender Detection Model By CNN"
      ],
      "execution_count": null,
      "outputs": []
    },
    {
      "cell_type": "code",
      "metadata": {
        "id": "-Dzu8B3_ZYMz"
      },
      "source": [
        "import pandas as pd\n",
        "import numpy as np\n",
        "import matplotlib.pyplot as plt\n",
        "import keras\n",
        "from tensorflow.keras.models import Sequential\n",
        "from tensorflow.keras.layers import Conv2D,MaxPooling2D,Dropout,Flatten,Dense\n",
        "from tensorflow.keras.preprocessing.image import ImageDataGenerator\n",
        "from tensorflow.keras.optimizers import Adam\n"
      ],
      "execution_count": 6,
      "outputs": []
    },
    {
      "cell_type": "code",
      "metadata": {
        "id": "Kz6yE2iPaK9a"
      },
      "source": [
        "import os\n",
        "os.environ[\"KAGGLE_USERNAME\"]=\"zishansayyed\"\n",
        "os.environ[\"KAGGLE_KEY\"]=\"9fe5d1f8d4a59417713436d574b6242b\""
      ],
      "execution_count": 7,
      "outputs": []
    },
    {
      "cell_type": "code",
      "metadata": {
        "id": "OzXtdA74aQtw",
        "colab": {
          "base_uri": "https://localhost:8080/"
        },
        "outputId": "82d02e56-6002-4af2-abf0-ffd87c410a8e"
      },
      "source": [
        "! kaggle datasets download -d cashutosh/gender-classification-dataset"
      ],
      "execution_count": null,
      "outputs": [
        {
          "output_type": "stream",
          "text": [
            "Downloading gender-classification-dataset.zip to /content\n",
            " 98% 264M/269M [00:02<00:00, 111MB/s]\n",
            "100% 269M/269M [00:02<00:00, 114MB/s]\n"
          ],
          "name": "stdout"
        }
      ]
    },
    {
      "cell_type": "code",
      "metadata": {
        "id": "mKvZft-tacJg"
      },
      "source": [
        "! unzip gender-classification-dataset"
      ],
      "execution_count": null,
      "outputs": []
    },
    {
      "cell_type": "code",
      "metadata": {
        "id": "NpiLdMngapUe"
      },
      "source": [
        "train_dir=\"/content/Training\"\n",
        "valid_dir=\"/content/Validation\"\n",
        "\n",
        "tain_dir_m=os.path.join(train_dir,\"male\")\n",
        "tain_dir_f=os.path.join(train_dir,\"female\")\n"
      ],
      "execution_count": null,
      "outputs": []
    },
    {
      "cell_type": "code",
      "metadata": {
        "id": "RwI2WiL6b1cS",
        "colab": {
          "base_uri": "https://localhost:8080/"
        },
        "outputId": "76202b3f-5740-493d-8037-73becaa0e47a"
      },
      "source": [
        "train_male_names=os.listdir(tain_dir_m)\n",
        "print(train_male_names[:10])\n",
        "\n",
        "train_fmale_names=os.listdir(tain_dir_f)\n",
        "print(train_fmale_names[:10])"
      ],
      "execution_count": 8,
      "outputs": [
        {
          "output_type": "stream",
          "text": [
            "['120596.jpg.jpg', '183779.jpg.jpg', '196693.jpg.jpg', '172456.jpg.jpg', '113272.jpg.jpg', '106416.jpg.jpg', '093166.jpg.jpg', '135063.jpg.jpg', '098653.jpg.jpg', '189321.jpg.jpg']\n",
            "['159178.jpg.jpg', '170434.jpg.jpg', '156709.jpg.jpg', '165287.jpg.jpg', '170494.jpg.jpg', '138652.jpg.jpg', '151128.jpg.jpg', '182427.jpg.jpg', '153357.jpg.jpg', '142564.jpg.jpg']\n"
          ],
          "name": "stdout"
        }
      ]
    },
    {
      "cell_type": "code",
      "metadata": {
        "id": "zF7OITErcQ-H",
        "colab": {
          "base_uri": "https://localhost:8080/",
          "height": 34
        },
        "outputId": "00d2500c-fc1e-4dae-ad98-fb3e3146c642"
      },
      "source": [
        "import matplotlib.image as mimg\n",
        "nrows=4\n",
        "ncols=4\n",
        "plt.figure(figsize=(20,20))\n",
        "\n",
        "male_pic=[]\n",
        "for i in train_male_names[0:8]:\n",
        "  male_pic.append(os.path.join(tain_dir_m,i))\n",
        "\n",
        "\n",
        "fmale_pic=[]\n",
        "for i in train_fmale_names[0:8]:\n",
        "  fmale_pic.append(os.path.join(tain_dir_f,i))"
      ],
      "execution_count": 9,
      "outputs": [
        {
          "output_type": "display_data",
          "data": {
            "text/plain": [
              "<Figure size 1440x1440 with 0 Axes>"
            ]
          },
          "metadata": {
            "tags": []
          }
        }
      ]
    },
    {
      "cell_type": "code",
      "metadata": {
        "id": "XhzbpDjFcvZm",
        "colab": {
          "base_uri": "https://localhost:8080/"
        },
        "outputId": "c6a1c5f8-4a50-4e47-f567-243045612c86"
      },
      "source": [
        "print(male_pic)\n",
        "print(fmale_pic)"
      ],
      "execution_count": 10,
      "outputs": [
        {
          "output_type": "stream",
          "text": [
            "['/content/Training/male/120596.jpg.jpg', '/content/Training/male/183779.jpg.jpg', '/content/Training/male/196693.jpg.jpg', '/content/Training/male/172456.jpg.jpg', '/content/Training/male/113272.jpg.jpg', '/content/Training/male/106416.jpg.jpg', '/content/Training/male/093166.jpg.jpg', '/content/Training/male/135063.jpg.jpg']\n",
            "['/content/Training/female/159178.jpg.jpg', '/content/Training/female/170434.jpg.jpg', '/content/Training/female/156709.jpg.jpg', '/content/Training/female/165287.jpg.jpg', '/content/Training/female/170494.jpg.jpg', '/content/Training/female/138652.jpg.jpg', '/content/Training/female/151128.jpg.jpg', '/content/Training/female/182427.jpg.jpg']\n"
          ],
          "name": "stdout"
        }
      ]
    },
    {
      "cell_type": "code",
      "metadata": {
        "id": "eq-QK-W5eBy0",
        "colab": {
          "base_uri": "https://localhost:8080/"
        },
        "outputId": "0f965c0e-6b70-4c66-bfba-c42889a28b64"
      },
      "source": [
        "pics=male_pic+fmale_pic\n",
        "len(pics)"
      ],
      "execution_count": 11,
      "outputs": [
        {
          "output_type": "execute_result",
          "data": {
            "text/plain": [
              "16"
            ]
          },
          "metadata": {
            "tags": []
          },
          "execution_count": 11
        }
      ]
    },
    {
      "cell_type": "code",
      "metadata": {
        "id": "UYLFwkFoeIY7",
        "colab": {
          "base_uri": "https://localhost:8080/",
          "height": 248
        },
        "outputId": "93939dd5-fde6-4f1d-f485-149ecaad1c27"
      },
      "source": [
        "for i in range(0,len(pics)):\n",
        "  data=pics[i].split(\"/\",2)[2]\n",
        "  sp=plt.subplot(nrows,ncols,i+1)\n",
        "  sp.axis(\"off\")\n",
        "  image=mimg.imread(pics[i])\n",
        "  plt.imshow(image,cmap=\"gray\")\n",
        "\n",
        "plt.show()"
      ],
      "execution_count": 13,
      "outputs": [
        {
          "output_type": "display_data",
          "data": {
            "image/png": "[encoded data removed]",
            "text/plain": [
              "<Figure size 432x288 with 16 Axes>"
            ]
          },
          "metadata": {
            "tags": [],
            "needs_background": "light"
          }
        }
      ]
    },
    {
      "cell_type": "code",
      "metadata": {
        "id": "gLVI9XdtePgy"
      },
      "source": [
        "train_dgen=ImageDataGenerator(rescale=1/255,\n",
        "                              zoom_range=0.3,\n",
        "                              rotation_range=50,\n",
        "                              width_shift_range=0.2,\n",
        "                             height_shift_range=0.2,\n",
        "                             horizontal_flip=True\n",
        "                              )\n",
        "valid_dgen=ImageDataGenerator(rescale=1/255)"
      ],
      "execution_count": 14,
      "outputs": []
    },
    {
      "cell_type": "code",
      "metadata": {
        "id": "ZH7esCF2fgv9",
        "colab": {
          "base_uri": "https://localhost:8080/"
        },
        "outputId": "d046056a-497b-4dfc-c602-913d5386270b"
      },
      "source": [
        "train_gen=train_dgen.flow_from_directory(train_dir,\n",
        "                                         target_size=(150,150),\n",
        "                                         batch_size=32,\n",
        "                                         class_mode=\"binary\")\n",
        "\n"
      ],
      "execution_count": 15,
      "outputs": [
        {
          "output_type": "stream",
          "text": [
            "Found 47009 images belonging to 2 classes.\n"
          ],
          "name": "stdout"
        }
      ]
    },
    {
      "cell_type": "code",
      "metadata": {
        "id": "Dr4WBpxHg0f6",
        "colab": {
          "base_uri": "https://localhost:8080/"
        },
        "outputId": "4bf44478-b4c0-4c7b-a3a8-c2523e773d8b"
      },
      "source": [
        "valid_gen=valid_dgen.flow_from_directory(valid_dir,\n",
        "                                         target_size=(150,150),\n",
        "                                         batch_size=32,\n",
        "                                        class_mode=\"binary\")"
      ],
      "execution_count": 16,
      "outputs": [
        {
          "output_type": "stream",
          "text": [
            "Found 11649 images belonging to 2 classes.\n"
          ],
          "name": "stdout"
        }
      ]
    },
    {
      "cell_type": "code",
      "metadata": {
        "id": "cM2YCawegfpb",
        "colab": {
          "base_uri": "https://localhost:8080/"
        },
        "outputId": "975afd1a-e678-4b93-c2ee-af72fcf3e67d"
      },
      "source": [
        "print(train_gen.class_indices)\n",
        "print(train_gen.image_shape)"
      ],
      "execution_count": 17,
      "outputs": [
        {
          "output_type": "stream",
          "text": [
            "{'female': 0, 'male': 1}\n",
            "(150, 150, 3)\n"
          ],
          "name": "stdout"
        }
      ]
    },
    {
      "cell_type": "code",
      "metadata": {
        "id": "L_arLrhHh_Cu"
      },
      "source": [
        "#performing CNN and Building modle\n",
        "\n",
        "model=Sequential()\n",
        "#adding 1st layer\n",
        "model.add(Conv2D(32,(3,3),padding=\"SAME\",activation=\"relu\",input_shape=(150,150,3)))\n",
        "model.add(MaxPooling2D(pool_size=(2,2)))\n",
        "model.add(Dropout(0.5))\n",
        "\n",
        "\n",
        "#adding 2nd layer\n",
        "model.add(Conv2D(64,(3,3),padding=\"SAME\",activation=\"relu\"))\n",
        "model.add(MaxPooling2D(pool_size=(2,2)))\n",
        "model.add(Dropout(0.5))\n",
        "\n",
        "#falttening the layer\n",
        "model.add(Flatten())\n",
        "\n",
        "\n",
        "model.add(Dense(256,activation=\"relu\"))\n",
        "model.add(Dropout(0.5))\n",
        "model.add(Dense(1,activation=\"sigmoid\"))\n",
        "model.summary()"
      ],
      "execution_count": null,
      "outputs": []
    },
    {
      "cell_type": "code",
      "metadata": {
        "id": "7EVl63hhgQyo"
      },
      "source": [
        "import pydot\n",
        "keras.utils.plot_model(model)"
      ],
      "execution_count": null,
      "outputs": []
    },
    {
      "cell_type": "code",
      "metadata": {
        "id": "1ZTDusfviJ5O"
      },
      "source": [
        "model.compile(Adam(learning_rate=0.001),loss=\"binary_crossentropy\",metrics=[\"accuracy\"])"
      ],
      "execution_count": null,
      "outputs": []
    },
    {
      "cell_type": "code",
      "metadata": {
        "id": "teWvNyhMiizc"
      },
      "source": [
        "trainning=model.fit(train_gen,\n",
        "                    steps_per_epoch=70,\n",
        "                    epochs=30,\n",
        "                    validation_data=valid_gen,\n",
        "                    validation_steps=50)\n"
      ],
      "execution_count": null,
      "outputs": []
    },
    {
      "cell_type": "code",
      "metadata": {
        "id": "mqmx82iui_e8"
      },
      "source": [
        "pd.DataFrame(trainning.history).plot(figsize=(10,5))\n",
        "plt.grid(True)\n",
        "plt.gca().set_ylim(0,1)\n",
        "plt.show()\n"
      ],
      "execution_count": null,
      "outputs": []
    },
    {
      "cell_type": "code",
      "metadata": {
        "id": "GTiWfBzgvY48"
      },
      "source": [
        "#running model on test data\n",
        "\n",
        "test_loss ,test_acc=model.evaluate(valid_gen)"
      ],
      "execution_count": null,
      "outputs": []
    },
    {
      "cell_type": "code",
      "metadata": {
        "id": "G8FAzJgxvg1R"
      },
      "source": [
        "model.save(\"gen_detection_model.h5\")"
      ],
      "execution_count": null,
      "outputs": []
    },
    {
      "cell_type": "code",
      "metadata": {
        "id": "PYUq2ZAUsNra"
      },
      "source": [
        "##to increse model performacne more we use VGG16"
      ],
      "execution_count": 18,
      "outputs": []
    },
    {
      "cell_type": "code",
      "metadata": {
        "colab": {
          "base_uri": "https://localhost:8080/"
        },
        "id": "lcKZXwsTsN1Q",
        "outputId": "775143d5-786f-4e07-ba6a-89a4b0ba7865"
      },
      "source": [
        "from tensorflow.keras.applications import VGG16\n",
        "con_base=VGG16(weights=\"imagenet\",\n",
        "              include_top=False,\n",
        "              input_shape=(150,150,3))"
      ],
      "execution_count": 19,
      "outputs": [
        {
          "output_type": "stream",
          "text": [
            "Downloading data from https://storage.googleapis.com/tensorflow/keras-applications/vgg16/vgg16_weights_tf_dim_ordering_tf_kernels_notop.h5\n",
            "58892288/58889256 [==============================] - 1s 0us/step\n"
          ],
          "name": "stdout"
        }
      ]
    },
    {
      "cell_type": "code",
      "metadata": {
        "colab": {
          "base_uri": "https://localhost:8080/"
        },
        "id": "8bFODUQ5sN9X",
        "outputId": "9e530af3-458e-4d7f-ae86-ee4d1442e474"
      },
      "source": [
        "con_base.summary()"
      ],
      "execution_count": 20,
      "outputs": [
        {
          "output_type": "stream",
          "text": [
            "Model: \"vgg16\"\n",
            "_________________________________________________________________\n",
            "Layer (type)                 Output Shape              Param #   \n",
            "=================================================================\n",
            "input_1 (InputLayer)         [(None, 150, 150, 3)]     0         \n",
            "_________________________________________________________________\n",
            "block1_conv1 (Conv2D)        (None, 150, 150, 64)      1792      \n",
            "_________________________________________________________________\n",
            "block1_conv2 (Conv2D)        (None, 150, 150, 64)      36928     \n",
            "_________________________________________________________________\n",
            "block1_pool (MaxPooling2D)   (None, 75, 75, 64)        0         \n",
            "_________________________________________________________________\n",
            "block2_conv1 (Conv2D)        (None, 75, 75, 128)       73856     \n",
            "_________________________________________________________________\n",
            "block2_conv2 (Conv2D)        (None, 75, 75, 128)       147584    \n",
            "_________________________________________________________________\n",
            "block2_pool (MaxPooling2D)   (None, 37, 37, 128)       0         \n",
            "_________________________________________________________________\n",
            "block3_conv1 (Conv2D)        (None, 37, 37, 256)       295168    \n",
            "_________________________________________________________________\n",
            "block3_conv2 (Conv2D)        (None, 37, 37, 256)       590080    \n",
            "_________________________________________________________________\n",
            "block3_conv3 (Conv2D)        (None, 37, 37, 256)       590080    \n",
            "_________________________________________________________________\n",
            "block3_pool (MaxPooling2D)   (None, 18, 18, 256)       0         \n",
            "_________________________________________________________________\n",
            "block4_conv1 (Conv2D)        (None, 18, 18, 512)       1180160   \n",
            "_________________________________________________________________\n",
            "block4_conv2 (Conv2D)        (None, 18, 18, 512)       2359808   \n",
            "_________________________________________________________________\n",
            "block4_conv3 (Conv2D)        (None, 18, 18, 512)       2359808   \n",
            "_________________________________________________________________\n",
            "block4_pool (MaxPooling2D)   (None, 9, 9, 512)         0         \n",
            "_________________________________________________________________\n",
            "block5_conv1 (Conv2D)        (None, 9, 9, 512)         2359808   \n",
            "_________________________________________________________________\n",
            "block5_conv2 (Conv2D)        (None, 9, 9, 512)         2359808   \n",
            "_________________________________________________________________\n",
            "block5_conv3 (Conv2D)        (None, 9, 9, 512)         2359808   \n",
            "_________________________________________________________________\n",
            "block5_pool (MaxPooling2D)   (None, 4, 4, 512)         0         \n",
            "=================================================================\n",
            "Total params: 14,714,688\n",
            "Trainable params: 14,714,688\n",
            "Non-trainable params: 0\n",
            "_________________________________________________________________\n"
          ],
          "name": "stdout"
        }
      ]
    },
    {
      "cell_type": "code",
      "metadata": {
        "id": "s85NOnz4sODn"
      },
      "source": [
        "model2=Sequential()\n",
        "model2.add(con_base)\n",
        "model2.add(Flatten())\n",
        "model2.add(Dense(512,activation=\"relu\"))\n",
        "model2.add(Dense(1,activation=\"sigmoid\"))"
      ],
      "execution_count": 21,
      "outputs": []
    },
    {
      "cell_type": "code",
      "metadata": {
        "colab": {
          "base_uri": "https://localhost:8080/"
        },
        "id": "lVRy4qZeoHom",
        "outputId": "f0f36d75-464f-46fd-f3dd-fcfcd68181b2"
      },
      "source": [
        "model2.summary()"
      ],
      "execution_count": null,
      "outputs": [
        {
          "output_type": "stream",
          "text": [
            "Model: \"sequential\"\n",
            "_________________________________________________________________\n",
            "Layer (type)                 Output Shape              Param #   \n",
            "=================================================================\n",
            "vgg16 (Functional)           (None, 4, 4, 512)         14714688  \n",
            "_________________________________________________________________\n",
            "flatten (Flatten)            (None, 8192)              0         \n",
            "_________________________________________________________________\n",
            "dense (Dense)                (None, 512)               4194816   \n",
            "_________________________________________________________________\n",
            "dense_1 (Dense)              (None, 1)                 513       \n",
            "=================================================================\n",
            "Total params: 18,910,017\n",
            "Trainable params: 18,910,017\n",
            "Non-trainable params: 0\n",
            "_________________________________________________________________\n"
          ],
          "name": "stdout"
        }
      ]
    },
    {
      "cell_type": "code",
      "metadata": {
        "id": "daRzFL9VsOO_"
      },
      "source": [
        "from tensorflow.keras import optimizers\n",
        "model2.compile(loss=\"binary_crossentropy\",\n",
        "             optimizer=optimizers.RMSprop(0.0001),\n",
        "              metrics =['accuracy'])"
      ],
      "execution_count": 22,
      "outputs": []
    },
    {
      "cell_type": "code",
      "metadata": {
        "id": "P4NK4oBuvdsD"
      },
      "source": [
        "from tensorflow import keras\n",
        "checkpoint_cp=keras.callbacks.ModelCheckpoint(\"GD_model-(epoch:02d).h5\")"
      ],
      "execution_count": 23,
      "outputs": []
    },
    {
      "cell_type": "code",
      "metadata": {
        "colab": {
          "base_uri": "https://localhost:8080/"
        },
        "id": "m1UdffwuveWn",
        "outputId": "73c6f760-ea7f-46e2-82f8-ee6b8f80f6e7"
      },
      "source": [
        "model_FIT2= model2.fit_generator(\n",
        "          train_gen,\n",
        "          steps_per_epoch=100,\n",
        "          epochs=20,\n",
        "          validation_data=valid_gen,\n",
        "          validation_steps=50,\n",
        "          callbacks=[checkpoint_cp])"
      ],
      "execution_count": 24,
      "outputs": [
        {
          "output_type": "stream",
          "text": [
            "WARNING:tensorflow:From <ipython-input-24-27099dd6440c>:7: Model.fit_generator (from tensorflow.python.keras.engine.training) is deprecated and will be removed in a future version.\n",
            "Instructions for updating:\n",
            "Please use Model.fit, which supports generators.\n",
            "Epoch 1/20\n",
            "  2/100 [..............................] - ETA: 9s - loss: 0.9705 - accuracy: 0.5000WARNING:tensorflow:Callbacks method `on_train_batch_end` is slow compared to the batch time (batch time: 0.0652s vs `on_train_batch_end` time: 0.1367s). Check your callbacks.\n",
            "100/100 [==============================] - 28s 282ms/step - loss: 0.7103 - accuracy: 0.5094 - val_loss: 0.6208 - val_accuracy: 0.6325\n",
            "Epoch 2/20\n",
            "100/100 [==============================] - 28s 285ms/step - loss: 0.5404 - accuracy: 0.7294 - val_loss: 0.6246 - val_accuracy: 0.6419\n",
            "Epoch 3/20\n",
            "100/100 [==============================] - 29s 286ms/step - loss: 0.3666 - accuracy: 0.8484 - val_loss: 0.3140 - val_accuracy: 0.9019\n",
            "Epoch 4/20\n",
            "100/100 [==============================] - 28s 285ms/step - loss: 0.3050 - accuracy: 0.8759 - val_loss: 0.3269 - val_accuracy: 0.8706\n",
            "Epoch 5/20\n",
            "100/100 [==============================] - 29s 286ms/step - loss: 0.2859 - accuracy: 0.8991 - val_loss: 0.1919 - val_accuracy: 0.9319\n",
            "Epoch 6/20\n",
            "100/100 [==============================] - 29s 288ms/step - loss: 0.2534 - accuracy: 0.9000 - val_loss: 0.1208 - val_accuracy: 0.9600\n",
            "Epoch 7/20\n",
            "100/100 [==============================] - 29s 293ms/step - loss: 0.2274 - accuracy: 0.9148 - val_loss: 0.2208 - val_accuracy: 0.9394\n",
            "Epoch 8/20\n",
            "100/100 [==============================] - 29s 289ms/step - loss: 0.2187 - accuracy: 0.9156 - val_loss: 0.1365 - val_accuracy: 0.9525\n",
            "Epoch 9/20\n",
            "100/100 [==============================] - 29s 288ms/step - loss: 0.2123 - accuracy: 0.9225 - val_loss: 0.2110 - val_accuracy: 0.9337\n",
            "Epoch 10/20\n",
            "100/100 [==============================] - 29s 295ms/step - loss: 0.2087 - accuracy: 0.9287 - val_loss: 0.1374 - val_accuracy: 0.9469\n",
            "Epoch 11/20\n",
            "100/100 [==============================] - 30s 298ms/step - loss: 0.1967 - accuracy: 0.9303 - val_loss: 0.1170 - val_accuracy: 0.9613\n",
            "Epoch 12/20\n",
            "100/100 [==============================] - 29s 291ms/step - loss: 0.1948 - accuracy: 0.9318 - val_loss: 0.1262 - val_accuracy: 0.9656\n",
            "Epoch 13/20\n",
            "100/100 [==============================] - 29s 293ms/step - loss: 0.1883 - accuracy: 0.9319 - val_loss: 0.1642 - val_accuracy: 0.9531\n",
            "Epoch 14/20\n",
            "100/100 [==============================] - 29s 293ms/step - loss: 0.1903 - accuracy: 0.9328 - val_loss: 0.0856 - val_accuracy: 0.9669\n",
            "Epoch 15/20\n",
            "100/100 [==============================] - 29s 292ms/step - loss: 0.1944 - accuracy: 0.9309 - val_loss: 0.1069 - val_accuracy: 0.9644\n",
            "Epoch 16/20\n",
            "100/100 [==============================] - 29s 292ms/step - loss: 0.1854 - accuracy: 0.9278 - val_loss: 0.1045 - val_accuracy: 0.9675\n",
            "Epoch 17/20\n",
            "100/100 [==============================] - 29s 292ms/step - loss: 0.1899 - accuracy: 0.9353 - val_loss: 0.1214 - val_accuracy: 0.9531\n",
            "Epoch 18/20\n",
            "100/100 [==============================] - 29s 293ms/step - loss: 0.1766 - accuracy: 0.9422 - val_loss: 0.1152 - val_accuracy: 0.9606\n",
            "Epoch 19/20\n",
            "100/100 [==============================] - 29s 293ms/step - loss: 0.1865 - accuracy: 0.9344 - val_loss: 0.1039 - val_accuracy: 0.9625\n",
            "Epoch 20/20\n",
            "100/100 [==============================] - 29s 292ms/step - loss: 0.1749 - accuracy: 0.9419 - val_loss: 0.1012 - val_accuracy: 0.9613\n"
          ],
          "name": "stdout"
        }
      ]
    },
    {
      "cell_type": "code",
      "metadata": {
        "colab": {
          "base_uri": "https://localhost:8080/",
          "height": 324
        },
        "id": "LxDQwXlkvecY",
        "outputId": "211804af-2f36-42e1-f34a-7149e8499bf1"
      },
      "source": [
        "pd.DataFrame(model_FIT2.history).plot(figsize=(10,5))\n",
        "plt.grid(True)\n",
        "plt.gca().set_ylim(0,1)\n",
        "plt.show()"
      ],
      "execution_count": 25,
      "outputs": [
        {
          "output_type": "display_data",
          "data": {
            "image/png": "[encoded data removed]",
            "text/plain": [
              "<Figure size 720x360 with 1 Axes>"
            ]
          },
          "metadata": {
            "tags": [],
            "needs_background": "light"
          }
        }
      ]
    },
    {
      "cell_type": "code",
      "metadata": {
        "id": "TS6_uCsOwsTr",
        "colab": {
          "resources": {
            "http://localhost:8080/nbextensions/google.colab/files.js": {
              "data": "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",
              "ok": true,
              "headers": [
                [
                  "content-type",
                  "application/javascript"
                ]
              ],
              "status": 200,
              "status_text": ""
            }
          },
          "base_uri": "https://localhost:8080/",
          "height": 990
        },
        "outputId": "2c7bdd4e-6b08-4aec-e4d8-a54f257e61f9"
      },
      "source": [
        "#now seeing how model works by providing data which was not present prviously\n",
        "import numpy as np\n",
        "from google.colab import files\n",
        "from keras.preprocessing import image\n",
        "\n",
        "uploaded=files.upload()\n",
        "for fname in uploaded.keys():\n",
        "  img_path=\"/content/\"+fname\n",
        "  img= image.load_img(img_path , target_size=(150,150))\n",
        "  images=image.img_to_array(img)\n",
        "  images=np.expand_dims(images,axis=0)\n",
        "  prediction=model2.predict(images)\n",
        "  print(fname)\n",
        "  if prediction==0:\n",
        "    print(\"Fmale\")\n",
        "\n",
        "  else:\n",
        "    print(\"Male\")"
      ],
      "execution_count": 27,
      "outputs": [
        {
          "output_type": "display_data",
          "data": {
            "text/html": [
              "\n",
              "     <input type=\"file\" id=\"files-dc46288b-b18d-4afe-b7d7-b3bc2179b89e\" name=\"files[]\" multiple disabled\n",
              "        style=\"border:none\" />\n",
              "     <output id=\"result-dc46288b-b18d-4afe-b7d7-b3bc2179b89e\">\n",
              "      Upload widget is only available when the cell has been executed in the\n",
              "      current browser session. Please rerun this cell to enable.\n",
              "      </output>\n",
              "      <script src=\"/nbextensions/google.colab/files.js\"></script> "
            ],
            "text/plain": [
              "<IPython.core.display.HTML object>"
            ]
          },
          "metadata": {
            "tags": []
          }
        },
        {
          "output_type": "stream",
          "text": [
            "Saving 063478.jpg.jpg to 063478.jpg.jpg\n",
            "Saving 063479.jpg.jpg to 063479.jpg.jpg\n",
            "Saving 063489.jpg.jpg to 063489.jpg.jpg\n",
            "Saving 063491.jpg.jpg to 063491.jpg.jpg\n",
            "Saving 063495.jpg.jpg to 063495.jpg.jpg\n",
            "Saving 063496.jpg.jpg to 063496.jpg.jpg\n",
            "Saving 063500.jpg.jpg to 063500.jpg.jpg\n",
            "Saving 112944.jpg.jpg to 112944.jpg.jpg\n",
            "Saving 112950.jpg.jpg to 112950.jpg.jpg\n",
            "Saving 112953.jpg.jpg to 112953.jpg.jpg\n",
            "Saving 112956.jpg.jpg to 112956.jpg.jpg\n",
            "Saving 112959.jpg.jpg to 112959.jpg.jpg\n",
            "Saving 112961.jpg.jpg to 112961.jpg.jpg\n",
            "Saving 112967.jpg.jpg to 112967.jpg.jpg\n",
            "063478.jpg.jpg\n",
            "Male\n",
            "063479.jpg.jpg\n",
            "Male\n",
            "063489.jpg.jpg\n",
            "Male\n",
            "063491.jpg.jpg\n",
            "Male\n",
            "063495.jpg.jpg\n",
            "Male\n",
            "063496.jpg.jpg\n",
            "Male\n",
            "063500.jpg.jpg\n",
            "Male\n",
            "112944.jpg.jpg\n",
            "Fmale\n",
            "112950.jpg.jpg\n",
            "Fmale\n",
            "112953.jpg.jpg\n",
            "Fmale\n",
            "112956.jpg.jpg\n",
            "Fmale\n",
            "112959.jpg.jpg\n",
            "Fmale\n",
            "112961.jpg.jpg\n",
            "Fmale\n",
            "112967.jpg.jpg\n",
            "Fmale\n"
          ],
          "name": "stdout"
        }
      ]
    },
    {
      "cell_type": "code",
      "metadata": {
        "id": "hPPMUHM7yB6-"
      },
      "source": [
        "#END"
      ],
      "execution_count": null,
      "outputs": []
    }
  ]
}